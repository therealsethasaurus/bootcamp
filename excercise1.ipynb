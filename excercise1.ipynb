{
 "cells": [
  {
   "cell_type": "markdown",
   "id": "6f6c0afd-a603-4d65-b84d-688256310fd3",
   "metadata": {},
   "source": [
    "# Exercise 1.3"
   ]
  },
  {
   "cell_type": "code",
   "execution_count": null,
   "id": "380eed0b-e526-4c83-ab6b-7c89488a2192",
   "metadata": {
    "tags": []
   },
   "outputs": [],
   "source": [
    "seconds_past_midnight = 63252"
   ]
  },
  {
   "cell_type": "code",
   "execution_count": 21,
   "id": "686b6679-e8d3-4d5f-b412-9d10455c85cc",
   "metadata": {
    "tags": []
   },
   "outputs": [],
   "source": [
    "hours = seconds_past_midnight // 60**2\n",
    "minutes = (seconds_past_midnight % 60**2) // 60\n",
    "seconds = seconds_past_midnight %60"
   ]
  },
  {
   "cell_type": "code",
   "execution_count": 22,
   "id": "a51f5bcd-a9c4-48ea-8740-a47c9fa774e8",
   "metadata": {
    "tags": []
   },
   "outputs": [],
   "source": [
    "time = str(hours) + ':' + str(minutes) + ':' + str(seconds)"
   ]
  },
  {
   "cell_type": "code",
   "execution_count": 23,
   "id": "2dd9fab3-dc9a-47be-9c25-7ae5f2053640",
   "metadata": {
    "tags": []
   },
   "outputs": [
    {
     "name": "stdout",
     "output_type": "stream",
     "text": [
      "17:34:12\n"
     ]
    }
   ],
   "source": [
    "print(time)"
   ]
  },
  {
   "cell_type": "markdown",
   "id": "5fcf7821-944f-4a38-bf64-22af3cba9a6d",
   "metadata": {},
   "source": [
    "# Exercise 1.4\n",
    "\n",
    "Compute reverse complement of a sequence (a) using a for loop but don't use built in reversed() function (b) write the function again but without any for loops\n"
   ]
  },
  {
   "cell_type": "code",
   "execution_count": 45,
   "id": "d67f7f37-5c0f-49ad-9e44-4bd9f69ef3d8",
   "metadata": {
    "tags": []
   },
   "outputs": [],
   "source": [
    "def complement_base(base, material='DNA'):\n",
    "    \"\"\"Returns the Watson-Crick complement of a base.\"\"\"\n",
    "    if base in 'Aa':\n",
    "        if material == 'DNA':\n",
    "            return 'T'\n",
    "        elif material == 'RNA':\n",
    "            return 'U'\n",
    "    elif base in 'Tt':\n",
    "        return 'A'\n",
    "    elif base in 'Gg':\n",
    "        return 'C'\n",
    "    else:\n",
    "        return 'G'\n",
    "    \n",
    "def reverse_complement(seq, material='DNA'):\n",
    "    \"\"\"Compute the reverse complement of a sequence\"\"\"\n",
    "    # Initialize reverse complement\n",
    "    rev_sequence = ''\n",
    "    \n",
    "    # Get length of string\n",
    "    len_seq = len(seq)\n",
    "    \n",
    "    # loop through string backwards\n",
    "    # adds complement to rev_sequence\n",
    "    for i in range(len_seq - 1, -1, (-1)):\n",
    "        rev_sequence += complement_base(seq[i], material=material)\n",
    "    \n",
    "    return rev_sequence\n"
   ]
  },
  {
   "cell_type": "code",
   "execution_count": 47,
   "id": "6f5e0e83-268c-40ec-8d05-332b6bd702d6",
   "metadata": {
    "tags": []
   },
   "outputs": [
    {
     "data": {
      "text/plain": [
       "'UGCAACUGC'"
      ]
     },
     "execution_count": 47,
     "metadata": {},
     "output_type": "execute_result"
    }
   ],
   "source": [
    "reverse_complement('GCAGTTGCA', material='RNA')\n",
    "    "
   ]
  },
  {
   "cell_type": "code",
   "execution_count": 48,
   "id": "96a821bd-d114-4841-917b-0ebdf98e7d38",
   "metadata": {
    "tags": []
   },
   "outputs": [
    {
     "data": {
      "text/plain": [
       "'TGCAACTGC'"
      ]
     },
     "execution_count": 48,
     "metadata": {},
     "output_type": "execute_result"
    }
   ],
   "source": [
    "reverse_complement('GCAGTTGCA', material='DNA')"
   ]
  },
  {
   "cell_type": "code",
   "execution_count": 49,
   "id": "9918bcab-145f-46b7-90f7-b21dd1caa6c5",
   "metadata": {
    "tags": []
   },
   "outputs": [],
   "source": [
    "def reverse_complement(seq, material='DNA'):\n",
    "    \"\"\"Compute Reverse Complement of a Sequence\"\"\"\n",
    "    # Initialize sequence\n",
    "    # Make lowercase\n",
    "    rev_sequence = seq.lower()\n",
    "    \n",
    "    if material == 'DNA':\n",
    "        rev_sequence = rev_sequence.replace('a', 'T')\n",
    "    elif material == 'RNA':\n",
    "        rev_sequence = rev_sequence.replace('a', 'U')\n",
    "    rev_sequence = rev_sequence.replace('t', 'A')\n",
    "    rev_sequence = rev_sequence.replace('g', 'C')\n",
    "    rev_sequence = rev_sequence.replace('c', 'G')\n",
    "    \n",
    "    return rev_sequence[::-1]"
   ]
  },
  {
   "cell_type": "code",
   "execution_count": 50,
   "id": "25c2e053-7702-423c-bf71-d8ae2845df58",
   "metadata": {
    "tags": []
   },
   "outputs": [
    {
     "data": {
      "text/plain": [
       "'UGCAACUGC'"
      ]
     },
     "execution_count": 50,
     "metadata": {},
     "output_type": "execute_result"
    }
   ],
   "source": [
    "reverse_complement('GCAGTTGCA', material='RNA')"
   ]
  },
  {
   "cell_type": "code",
   "execution_count": 51,
   "id": "8b951b14-31a8-4190-9eaa-c3594e0deb5e",
   "metadata": {
    "tags": []
   },
   "outputs": [
    {
     "data": {
      "text/plain": [
       "'TGCAACTGC'"
      ]
     },
     "execution_count": 51,
     "metadata": {},
     "output_type": "execute_result"
    }
   ],
   "source": [
    "reverse_complement('GCAGTTGCA', material='DNA')"
   ]
  },
  {
   "cell_type": "markdown",
   "id": "f5c77e45-88c9-46f5-a9f6-1bec55a5b8b8",
   "metadata": {},
   "source": [
    "# Exercise 1.5"
   ]
  },
  {
   "cell_type": "code",
   "execution_count": 54,
   "id": "26c2f413-79d9-4e5e-a519-d25681d7d853",
   "metadata": {
    "tags": []
   },
   "outputs": [],
   "source": [
    "def longest_common_substring(s1, s2):\n",
    "    # Make sure that s1 is longer than s2\n",
    "    if s1 < s2:\n",
    "        s1, s2 = s2, s1\n",
    "        \n",
    "    substring_len= len(s2)\n",
    "    while substring_len >0:\n",
    "        for i in range (len(s2) - substring_len + 1):\n",
    "            if s2[i:i+substring_len] in s1:\n",
    "                return s2[i:i+substring_len]\n",
    "    \n",
    "    \n",
    "    # No substring found. Return empty string\n",
    "    return ''"
   ]
  },
  {
   "cell_type": "code",
   "execution_count": 55,
   "id": "d315c889-26ce-49d7-a6ad-c69746ac4115",
   "metadata": {
    "tags": []
   },
   "outputs": [
    {
     "data": {
      "text/plain": [
       "'ATGC'"
      ]
     },
     "execution_count": 55,
     "metadata": {},
     "output_type": "execute_result"
    }
   ],
   "source": [
    "longest_common_substring('ATGC', 'ATGCA')"
   ]
  },
  {
   "cell_type": "code",
   "execution_count": 56,
   "id": "e46efeac-e1c2-4f7e-8e2c-81b55af19327",
   "metadata": {
    "tags": []
   },
   "outputs": [
    {
     "data": {
      "text/plain": [
       "'ATGCC'"
      ]
     },
     "execution_count": 56,
     "metadata": {},
     "output_type": "execute_result"
    }
   ],
   "source": [
    "longest_common_substring('GATGCCATGCA', 'ATGCC')"
   ]
  },
  {
   "cell_type": "markdown",
   "id": "8303d657-25ad-4906-b1fe-e99ca9254b16",
   "metadata": {},
   "source": [
    "# Exercise 1.6\n"
   ]
  },
  {
   "cell_type": "code",
   "execution_count": 2,
   "id": "2a0f9cda-5b62-4dec-b4e6-df981bea6ac7",
   "metadata": {},
   "outputs": [],
   "source": [
    "def check_parentheses (struc):\n",
    "    \"\"\"Ensures that there are an equal number of open and closed parentheses\"\"\"\n",
    "    return srtuc.count('(') == seq.count(')')"
   ]
  },
  {
   "cell_type": "code",
   "execution_count": 108,
   "id": "efd5e5ca-3f29-4200-8fd3-7195de92225d",
   "metadata": {
    "tags": []
   },
   "outputs": [],
   "source": [
    "def dotparen_to_bp(struc):\n",
    "    \"\"\"\n",
    "    Method to return a tuple of the base pairs whose parentheses\n",
    "    open / close each other. Returns false when there is an unequal\n",
    "    number of forward and back parentheses\n",
    "    \"\"\"\n",
    "    if not check_parentheses(struc):\n",
    "        return False\n",
    "\n",
    "    # Create lists of open and close parentheses\n",
    "    open_parentheses = []\n",
    "    pairs = []\n",
    "    \n",
    "    for i, x in enumerate(struc):\n",
    "        if x == '(':\n",
    "            open_parentheses.append(i)\n",
    "        elif x == ')':\n",
    "            if len(open_parentheses) > 0:\n",
    "                pairs.append((open_parentheses.pop(), i))\n",
    "            else:\n",
    "                print('Error in input structure')\n",
    "                return False\n",
    "\n",
    "    return tuple(sorted(pairs))"
   ]
  },
  {
   "cell_type": "code",
   "execution_count": 109,
   "id": "93b96843-f088-4324-9217-5f5cab9805dc",
   "metadata": {
    "tags": []
   },
   "outputs": [
    {
     "data": {
      "text/plain": [
       "((0, 9), (1, 8), (2, 7))"
      ]
     },
     "execution_count": 109,
     "metadata": {},
     "output_type": "execute_result"
    }
   ],
   "source": [
    "dotparen_to_bp('(((....)))')"
   ]
  },
  {
   "cell_type": "code",
   "execution_count": 185,
   "id": "bdd35668-d631-474b-a268-498833be7c6b",
   "metadata": {
    "tags": []
   },
   "outputs": [],
   "source": [
    "def check_hairpin_len(pairs):\n",
    "    \"\"\"\n",
    "    Method to check if the list of base pairs satisfies the minimum length for a hairpin\n",
    "    \"\"\"\n",
    "    \n",
    "    for pair in pairs:\n",
    "        if (pair[1] - pair[0]) < 4:\n",
    "            print('Hairpin is too short')\n",
    "            return False\n",
    "    \n",
    "    return True"
   ]
  },
  {
   "cell_type": "code",
   "execution_count": 186,
   "id": "708526f0-fcf5-4c68-a9fa-a9944f7dcf5a",
   "metadata": {
    "tags": []
   },
   "outputs": [
    {
     "data": {
      "text/plain": [
       "True"
      ]
     },
     "execution_count": 186,
     "metadata": {},
     "output_type": "execute_result"
    }
   ],
   "source": [
    "test = dotparen_to_bp('(((...)))')\n",
    "\n",
    "check_hairpin_len(test)"
   ]
  },
  {
   "cell_type": "code",
   "execution_count": 194,
   "id": "8fbe8531-f1cf-4fb8-bfd9-e36e4d3d325a",
   "metadata": {
    "tags": []
   },
   "outputs": [],
   "source": [
    "def rna_ss_validator(seq, sec_struc, wobble=True):\n",
    "    # Convert sequence to lowercase\n",
    "    seq = seq.lower()\n",
    "    \n",
    "    \n",
    "    # Create tuple of pairs of open and close parentheses\n",
    "    pairs = dotparen_to_bp(sec_struc)\n",
    "    \n",
    "    if not pairs:\n",
    "        return False\n",
    "    \n",
    "    # Check that the minimum length for a hairpin is met\n",
    "    if not check_hairpin_len(pairs):\n",
    "        return False\n",
    "    \n",
    "    ok_pairs = ['gc', 'cg', 'ua', 'au']\n",
    "    if wobble:\n",
    "        ok_pairs.append('gu')\n",
    "        ok_pairs.append('ug')\n",
    "        \n",
    "    for pair in pairs:\n",
    "        bases = seq[pair[0]] + seq[pair[1]]\n",
    "        if bases not in ok_pairs:\n",
    "            return False\n",
    "    \n",
    "    return True\n",
    "    "
   ]
  },
  {
   "cell_type": "code",
   "execution_count": 195,
   "id": "f727208f-dbcb-4275-b3ab-69770fbbc280",
   "metadata": {
    "tags": []
   },
   "outputs": [
    {
     "data": {
      "text/plain": [
       "True"
      ]
     },
     "execution_count": 195,
     "metadata": {},
     "output_type": "execute_result"
    }
   ],
   "source": [
    "# Should return as True\n",
    "rna_ss_validator('GCAUCUAUGC', '(((....)))')\n",
    "\n"
   ]
  },
  {
   "cell_type": "code",
   "execution_count": 196,
   "id": "e1309b1a-c19b-4c24-a091-4e76d3f9ccc1",
   "metadata": {
    "tags": []
   },
   "outputs": [
    {
     "data": {
      "text/plain": [
       "True"
      ]
     },
     "execution_count": 196,
     "metadata": {},
     "output_type": "execute_result"
    }
   ],
   "source": [
    "rna_ss_validator('GCAUCUAUGU', '(((....)))')\n"
   ]
  },
  {
   "cell_type": "code",
   "execution_count": 197,
   "id": "75029161-dfb5-49e9-a02e-4eb54930fa3d",
   "metadata": {
    "tags": []
   },
   "outputs": [
    {
     "data": {
      "text/plain": [
       "True"
      ]
     },
     "execution_count": 197,
     "metadata": {},
     "output_type": "execute_result"
    }
   ],
   "source": [
    "\n",
    "rna_ss_validator('GCAUCUAUGU', '(.(....).)')"
   ]
  },
  {
   "cell_type": "code",
   "execution_count": 198,
   "id": "8ca477b6-1ce4-4e4e-9caf-c277977bcd43",
   "metadata": {
    "tags": []
   },
   "outputs": [
    {
     "data": {
      "text/plain": [
       "False"
      ]
     },
     "execution_count": 198,
     "metadata": {},
     "output_type": "execute_result"
    }
   ],
   "source": [
    "rna_ss_validator('GCAUCUACGC', '(((....)))')\n"
   ]
  },
  {
   "cell_type": "code",
   "execution_count": 199,
   "id": "6b844603-613c-4608-8738-d7a8eb396ca6",
   "metadata": {
    "tags": []
   },
   "outputs": [
    {
     "data": {
      "text/plain": [
       "False"
      ]
     },
     "execution_count": 199,
     "metadata": {},
     "output_type": "execute_result"
    }
   ],
   "source": [
    "rna_ss_validator('GCAUCUAUGU', '(((....)))', wobble=False)\n"
   ]
  },
  {
   "cell_type": "code",
   "execution_count": 200,
   "id": "b688ddd8-86d0-42f7-9e76-39b8ae4e8724",
   "metadata": {
    "tags": []
   },
   "outputs": [
    {
     "data": {
      "text/plain": [
       "False"
      ]
     },
     "execution_count": 200,
     "metadata": {},
     "output_type": "execute_result"
    }
   ],
   "source": [
    "rna_ss_validator('GCAUCUAUGU', '(.(....)).')\n"
   ]
  },
  {
   "cell_type": "code",
   "execution_count": 201,
   "id": "bc7f3f33-c2f6-42ae-98ba-5c3e1fe244b3",
   "metadata": {
    "tags": []
   },
   "outputs": [
    {
     "name": "stdout",
     "output_type": "stream",
     "text": [
      "Hairpin is too short\n"
     ]
    },
    {
     "data": {
      "text/plain": [
       "False"
      ]
     },
     "execution_count": 201,
     "metadata": {},
     "output_type": "execute_result"
    }
   ],
   "source": [
    "rna_ss_validator('GCCCUUGGCA', '(.((..))).')"
   ]
  },
  {
   "cell_type": "code",
   "execution_count": null,
   "id": "5e3835bd-e45c-4dfd-b6b2-6f05fc5e7f35",
   "metadata": {},
   "outputs": [],
   "source": []
  },
  {
   "cell_type": "code",
   "execution_count": null,
   "id": "df1c9f4f-fb10-46cc-ae33-ef74ee1b4dc4",
   "metadata": {},
   "outputs": [],
   "source": []
  }
 ],
 "metadata": {
  "kernelspec": {
   "display_name": "Python 3 (ipykernel)",
   "language": "python",
   "name": "python3"
  },
  "language_info": {
   "codemirror_mode": {
    "name": "ipython",
    "version": 3
   },
   "file_extension": ".py",
   "mimetype": "text/x-python",
   "name": "python",
   "nbconvert_exporter": "python",
   "pygments_lexer": "ipython3",
   "version": "3.10.11"
  }
 },
 "nbformat": 4,
 "nbformat_minor": 5
}
