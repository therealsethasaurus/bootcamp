{
 "cells": [
  {
   "cell_type": "markdown",
   "id": "fd7aedad-1f30-44b7-a1cf-cad25a8be905",
   "metadata": {},
   "source": [
    "Think about design specification for a bit of code. Lays out what input and output should be. Then writes a test (that will fail). Then writes or updates code to past test"
   ]
  },
  {
   "cell_type": "markdown",
   "id": "92a50fd3-5e92-4476-996a-85132481604d",
   "metadata": {},
   "source": [
    "# Example of TDD"
   ]
  },
  {
   "cell_type": "code",
   "execution_count": 1,
   "id": "aacebf79-7e94-467d-a905-5fdb08f3e1a8",
   "metadata": {
    "tags": []
   },
   "outputs": [],
   "source": [
    "def number_negatives(seq):\n",
    "    \"\"\"Number of negative residues in a protein sequence\"\"\"\n",
    "    # Do nothing for now\n",
    "    pass"
   ]
  },
  {
   "cell_type": "code",
   "execution_count": 2,
   "id": "973d7bd9-38a2-4274-bd0d-37e8652e2ae7",
   "metadata": {
    "tags": []
   },
   "outputs": [
    {
     "data": {
      "text/plain": [
       "False"
      ]
     },
     "execution_count": 2,
     "metadata": {},
     "output_type": "execute_result"
    }
   ],
   "source": [
    "number_negatives('E') == 1"
   ]
  },
  {
   "cell_type": "code",
   "execution_count": 3,
   "id": "1173bc0e-aaee-49a7-9513-a2ae7cde4440",
   "metadata": {
    "tags": []
   },
   "outputs": [],
   "source": [
    "def number_negatives(seq):\n",
    "    \"\"\"Number of negative residues in a protein sequence\"\"\"\n",
    "    # Count E's and D's, since these are the negative residues\n",
    "    return seq.count('E') + seq.count('D')"
   ]
  },
  {
   "cell_type": "code",
   "execution_count": 4,
   "id": "2f242a41-6048-496d-9797-f1462026337a",
   "metadata": {
    "tags": []
   },
   "outputs": [
    {
     "data": {
      "text/plain": [
       "True"
      ]
     },
     "execution_count": 4,
     "metadata": {},
     "output_type": "execute_result"
    }
   ],
   "source": [
    "number_negatives('E') == 1"
   ]
  },
  {
   "cell_type": "code",
   "execution_count": 5,
   "id": "3d2bfb75-9250-4e5f-b4f3-8ec143c2f980",
   "metadata": {
    "tags": []
   },
   "outputs": [
    {
     "name": "stdout",
     "output_type": "stream",
     "text": [
      "True\n",
      "True\n",
      "True\n",
      "True\n"
     ]
    }
   ],
   "source": [
    "print(number_negatives('E') == 1)\n",
    "print(number_negatives('D') == 1)\n",
    "print(number_negatives('') == 0)\n",
    "print(number_negatives('ACKLWTTAE') == 1)"
   ]
  },
  {
   "cell_type": "code",
   "execution_count": 6,
   "id": "baa665d9-c9f4-4090-bb64-308ee3875b82",
   "metadata": {
    "tags": []
   },
   "outputs": [
    {
     "data": {
      "text/plain": [
       "0"
      ]
     },
     "execution_count": 6,
     "metadata": {},
     "output_type": "execute_result"
    }
   ],
   "source": [
    "number_negatives('acklwttae')"
   ]
  },
  {
   "cell_type": "code",
   "execution_count": 7,
   "id": "8d4adeb6-f2b3-4f76-881b-07181877714e",
   "metadata": {
    "tags": []
   },
   "outputs": [
    {
     "data": {
      "text/plain": [
       "False"
      ]
     },
     "execution_count": 7,
     "metadata": {},
     "output_type": "execute_result"
    }
   ],
   "source": [
    "number_negatives('acklwttae') == 1"
   ]
  },
  {
   "cell_type": "code",
   "execution_count": 8,
   "id": "ab77b74f-83b8-4d67-bfcb-1103e8ea3d15",
   "metadata": {
    "tags": []
   },
   "outputs": [],
   "source": [
    "def number_negatives(seq):\n",
    "    \"\"\"Number of negative residues in a protein sequence\"\"\"\n",
    "    # Convert sequence to upper case\n",
    "    seq = seq.upper()\n",
    "    \n",
    "    # Count E's and D's, since these are the negative residues\n",
    "    return seq.count('E') + seq.count('D')"
   ]
  },
  {
   "cell_type": "code",
   "execution_count": 9,
   "id": "697a6e01-b8ed-4b58-9beb-900435ce0ff2",
   "metadata": {
    "tags": []
   },
   "outputs": [
    {
     "data": {
      "text/plain": [
       "True"
      ]
     },
     "execution_count": 9,
     "metadata": {},
     "output_type": "execute_result"
    }
   ],
   "source": [
    "number_negatives('acklwttae') == 1"
   ]
  },
  {
   "cell_type": "code",
   "execution_count": 10,
   "id": "8620b3e2-c64a-40c3-8b66-55ce087a3396",
   "metadata": {
    "tags": []
   },
   "outputs": [
    {
     "name": "stdout",
     "output_type": "stream",
     "text": [
      "True\n",
      "True\n",
      "True\n",
      "True\n",
      "True\n",
      "True\n"
     ]
    }
   ],
   "source": [
    "print(number_negatives('E') == 1)\n",
    "print(number_negatives('D') == 1)\n",
    "print(number_negatives('') == 0)\n",
    "print(number_negatives('ACKLWTTAE') == 1)\n",
    "print(number_negatives('DDDDEEEE') == 8)\n",
    "print(number_negatives('acklwttae') == 1)"
   ]
  },
  {
   "cell_type": "markdown",
   "id": "3bbdb12d-d440-423e-8d08-be9215ef7ccc",
   "metadata": {},
   "source": [
    "# The assert statement\n",
    "Python has built in way to do your tests"
   ]
  },
  {
   "cell_type": "code",
   "execution_count": 11,
   "id": "b4bac29c-452d-441c-9cd7-e32fe8680779",
   "metadata": {
    "tags": []
   },
   "outputs": [],
   "source": [
    "assert number_negatives('E') == 1"
   ]
  },
  {
   "cell_type": "code",
   "execution_count": 12,
   "id": "2b1a7d13-3a10-4743-9ccf-276c5083c3dd",
   "metadata": {
    "tags": []
   },
   "outputs": [
    {
     "ename": "AssertionError",
     "evalue": "",
     "output_type": "error",
     "traceback": [
      "\u001b[0;31m---------------------------------------------------------------------------\u001b[0m",
      "\u001b[0;31mAssertionError\u001b[0m                            Traceback (most recent call last)",
      "Cell \u001b[0;32mIn[12], line 2\u001b[0m\n\u001b[1;32m      1\u001b[0m \u001b[38;5;66;03m# Try asserting something we know will fail\u001b[39;00m\n\u001b[0;32m----> 2\u001b[0m \u001b[38;5;28;01massert\u001b[39;00m number_negatives(\u001b[38;5;124m'\u001b[39m\u001b[38;5;124mE\u001b[39m\u001b[38;5;124m'\u001b[39m) \u001b[38;5;241m==\u001b[39m \u001b[38;5;241m2\u001b[39m\n",
      "\u001b[0;31mAssertionError\u001b[0m: "
     ]
    }
   ],
   "source": [
    "# Try asserting something we know will fail\n",
    "assert number_negatives('E') == 2"
   ]
  },
  {
   "cell_type": "code",
   "execution_count": 13,
   "id": "544ae33b-63a9-4808-bca5-6061af9f086c",
   "metadata": {
    "tags": []
   },
   "outputs": [
    {
     "ename": "AssertionError",
     "evalue": "Failed on sequence of length 1",
     "output_type": "error",
     "traceback": [
      "\u001b[0;31m---------------------------------------------------------------------------\u001b[0m",
      "\u001b[0;31mAssertionError\u001b[0m                            Traceback (most recent call last)",
      "Cell \u001b[0;32mIn[13], line 2\u001b[0m\n\u001b[1;32m      1\u001b[0m \u001b[38;5;66;03m# Can add comment describing error\u001b[39;00m\n\u001b[0;32m----> 2\u001b[0m \u001b[38;5;28;01massert\u001b[39;00m number_negatives(\u001b[38;5;124m'\u001b[39m\u001b[38;5;124mE\u001b[39m\u001b[38;5;124m'\u001b[39m) \u001b[38;5;241m==\u001b[39m \u001b[38;5;241m2\u001b[39m, \u001b[38;5;124m'\u001b[39m\u001b[38;5;124mFailed on sequence of length 1\u001b[39m\u001b[38;5;124m'\u001b[39m\n",
      "\u001b[0;31mAssertionError\u001b[0m: Failed on sequence of length 1"
     ]
    }
   ],
   "source": [
    "# Can add comment describing error\n",
    "assert number_negatives('E') == 2, 'Failed on sequence of length 1'"
   ]
  },
  {
   "cell_type": "code",
   "execution_count": 15,
   "id": "64ae1c9d-13c9-4048-b7ab-e2180185174e",
   "metadata": {
    "tags": []
   },
   "outputs": [],
   "source": [
    "def test_number_negatves():\n",
    "    \"\"\"Perform unit tests on number_negavites.\"\"\"\n",
    "    assert number_negatives('E')==1\n",
    "    assert number_negatives('D')==1\n",
    "    assert number_negatives('')==0\n",
    "    assert number_negatives('ACKLWTTAE') == 1\n",
    "    assert number_negatives('DDDDEEEE')==8\n",
    "    assert number_negatives('acklwttae') == 1\n",
    "\n",
    "# Run all the tests\n",
    "test_number_negatves()"
   ]
  },
  {
   "cell_type": "markdown",
   "id": "612bba3d-05b2-466a-acea-e068f568188a",
   "metadata": {},
   "source": [
    "# Introducing pytest\n",
    "Gives positive reinforcement\n"
   ]
  },
  {
   "cell_type": "markdown",
   "id": "3255fe5a-e160-4f37-b737-8c3b28d4e9f6",
   "metadata": {},
   "source": [
    "## Using pytest\n"
   ]
  },
  {
   "cell_type": "code",
   "execution_count": null,
   "id": "572268be-e560-4070-8ca2-c65720a313d0",
   "metadata": {},
   "outputs": [],
   "source": []
  }
 ],
 "metadata": {
  "kernelspec": {
   "display_name": "Python 3 (ipykernel)",
   "language": "python",
   "name": "python3"
  },
  "language_info": {
   "codemirror_mode": {
    "name": "ipython",
    "version": 3
   },
   "file_extension": ".py",
   "mimetype": "text/x-python",
   "name": "python",
   "nbconvert_exporter": "python",
   "pygments_lexer": "ipython3",
   "version": "3.10.11"
  }
 },
 "nbformat": 4,
 "nbformat_minor": 5
}
