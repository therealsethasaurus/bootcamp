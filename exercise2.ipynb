{
 "cells": [
  {
   "cell_type": "markdown",
   "id": "4d17c24e-f95b-422f-b4a9-19af887d64fd",
   "metadata": {
    "jp-MarkdownHeadingCollapsed": true,
    "tags": []
   },
   "source": [
    "# Exercise 2.1"
   ]
  },
  {
   "cell_type": "code",
   "execution_count": 2,
   "id": "d3f123a5-2f85-494d-955a-93cb79a2caef",
   "metadata": {
    "tags": []
   },
   "outputs": [
    {
     "name": "stdout",
     "output_type": "stream",
     "text": [
      ">gi|821161554|gb|CP011428.1| Salmonella enterica subsp. enterica strain YU39, complete genome, subsequence 3000000 to 3200000\n"
     ]
    }
   ],
   "source": [
    "\n",
    "!grep \">\" data/salmonella_spi1_region.fna"
   ]
  },
  {
   "cell_type": "code",
   "execution_count": 3,
   "id": "efa458ae-1849-4c0f-bd30-4f5c8ed97c0f",
   "metadata": {},
   "outputs": [],
   "source": [
    "def read_fasta(filename):\n",
    "    \"\"\"\n",
    "    Read a FASTA File\n",
    "    Assumes first line is the descriptor and the rest is\n",
    "    the sequence\n",
    "    \"\"\"\n",
    "    with open(filename, 'r') as f:\n",
    "        descriptor = f.readline().rstrip()\n",
    "        \n",
    "        sequence = \"\"\n",
    "        line = f.readline().rstrip()\n",
    "        print(sequence)\n",
    "        while line != \"\":\n",
    "            sequence += line\n",
    "            line = f.readline().rstrip()\n",
    "            \n",
    "    return descriptor, sequence"
   ]
  },
  {
   "cell_type": "code",
   "execution_count": 4,
   "id": "bd5b547d-c2cd-4383-8e45-acc38b8c9331",
   "metadata": {
    "tags": []
   },
   "outputs": [
    {
     "name": "stdout",
     "output_type": "stream",
     "text": [
      "\n"
     ]
    }
   ],
   "source": [
    "descriptor, seq = read_fasta('data/salmonella_spi1_region.fna')"
   ]
  },
  {
   "cell_type": "code",
   "execution_count": 5,
   "id": "40a00f55-6778-4469-9e36-6d63097eb44a",
   "metadata": {
    "tags": []
   },
   "outputs": [
    {
     "name": "stdout",
     "output_type": "stream",
     "text": [
      ">gi|821161554|gb|CP011428.1| Salmonella enterica subsp. enterica strain YU39, complete genome, subsequence 3000000 to 3200000\n"
     ]
    }
   ],
   "source": [
    "print(descriptor)"
   ]
  },
  {
   "cell_type": "code",
   "execution_count": 6,
   "id": "bd80a4f2-a10a-4cf0-8465-ebda0f201b71",
   "metadata": {
    "tags": []
   },
   "outputs": [
    {
     "data": {
      "text/plain": [
       "'AAAACCTTAGTAACTGGACTGCTGGGATTTTTCAGCCTGGATACGCTGGTAGATCTCTTCACGATGGACAGAAACTTCTTTCGGGGCGTTCACGCCAATACGCACCTGGTTGCCCTTCACCCCTAAAACTGTCACGGTGACCTCATCGCCAATCATGAGGGTCTCACCAACTCGACGAGTCAGAATCAGCATTCTTTGCTCCTTGAAAGATTAAAAGAGTCGGGTCTCTCTGTATCCCGGCATTATCCATCATATAACGCCAAAAAGTAAGCGATGACAAACACCTTAGGTGTAAGCAGTCATGGCATTACATTCTGTTAAACCTAAGTTTAGCCGATATACAAAACTTCAACCTGACTTTATCGTTGTCGATAGCGTTGACGTAAACGCCGCAGCACGGGCTGCGGCGCCAACGAACGCTTATAATTATTGCAATTTTGCGCTGACCCAGCCTTGTACACTGGCTAACGCTGCAGGCAGAGCTGCCGCATCCGTACCAC'"
      ]
     },
     "execution_count": 6,
     "metadata": {},
     "output_type": "execute_result"
    }
   ],
   "source": [
    "seq[:500]"
   ]
  },
  {
   "cell_type": "code",
   "execution_count": null,
   "id": "f19edbc4-93b9-409c-8403-239f8cde7db1",
   "metadata": {},
   "outputs": [],
   "source": []
  },
  {
   "cell_type": "markdown",
   "id": "333fe26d-b60c-4f7a-bec4-20539aae6549",
   "metadata": {
    "jp-MarkdownHeadingCollapsed": true,
    "tags": []
   },
   "source": [
    "# Exercise 2.2"
   ]
  },
  {
   "cell_type": "code",
   "execution_count": 8,
   "id": "33ac089a-e2c3-48a7-9e4f-6822daf8a235",
   "metadata": {
    "tags": []
   },
   "outputs": [
    {
     "name": "stdout",
     "output_type": "stream",
     "text": [
      "\n"
     ]
    }
   ],
   "source": [
    "descriptor, seq = read_fasta('data/lambda.fasta.txt')"
   ]
  },
  {
   "cell_type": "code",
   "execution_count": 9,
   "id": "92432b56-542e-4f81-a70f-74dd6dfd1a6c",
   "metadata": {
    "tags": []
   },
   "outputs": [
    {
     "name": "stdout",
     "output_type": "stream",
     "text": [
      ">Lambda_NEB\n"
     ]
    }
   ],
   "source": [
    "print(descriptor)"
   ]
  },
  {
   "cell_type": "code",
   "execution_count": 36,
   "id": "27a670a4-9424-4fb8-89b7-5516ef890a4e",
   "metadata": {
    "tags": []
   },
   "outputs": [
    {
     "data": {
      "text/plain": [
       "'GGGCGGCGACCTCGCGGGTTTTCGCTATTTATGAAAATTTTCCGGTTTAAGGCGTTTCCGTTCTTCTTCGTCATAACTTAATGTTTTTATTTAAAATACCCTCTGAAAAGAAAGGAAACGACAGGTGCTGAAAGCGAGGCTTTTTGGCCTCTGTCGTTTCCTTTCTCTGTTTTTGTCCGTGGAATGAACAATGGAAGTCAACAAAAAGCAGCTGGCTGACATTTTCGGTGCGAGTATCCGTACCATTCAGAACTGGCAGGAACAGGGAATGCCCGTTCTGCGAGGCGGTGGCAAGGGTAATGAGGTGCTTTATGACTCTGCCGCCGTCATAAAATGGTATGCCGAAAGGGATGCTGAAATTGAGAACGAAAAGCTGCGCCGGGAGGTTGAAGAACTGCGGCAGGCCAGCGAGGCAGATCTCCAGCCAGGAACTATTGAGTACGAACGCCATCGACTTACGCGTGCGCAGGCCGACGCACAGGAACTGAAGAATGCCAGAG'"
      ]
     },
     "execution_count": 36,
     "metadata": {},
     "output_type": "execute_result"
    }
   ],
   "source": [
    "seq[:500]"
   ]
  },
  {
   "cell_type": "code",
   "execution_count": null,
   "id": "26064290-7ebb-48f8-8375-6bd492bea064",
   "metadata": {
    "tags": []
   },
   "outputs": [],
   "source": []
  },
  {
   "cell_type": "code",
   "execution_count": 34,
   "id": "b6af6731-3cfb-47d0-be90-b9bfa1f982f0",
   "metadata": {
    "tags": []
   },
   "outputs": [],
   "source": [
    "def restriction_sites(seq, recog_seq):\n",
    "    # Create list to add index of cut sites\n",
    "    cut_sites = []\n",
    "    \n",
    "    # I'm dumb, I could've done this in a much easier way\n",
    "    for i in range (len(seq) - len(recog_seq)):\n",
    "        correct_bases = 0\n",
    "        for j, recog_base in enumerate(recog_seq):\n",
    "            \n",
    "            if seq[i+j] == recog_base:\n",
    "                correct_bases += 1\n",
    "            if correct_bases == len(recog_seq):\n",
    "                cut_sites.append(i)\n",
    "                \n",
    "                \n",
    "    return cut_sites"
   ]
  },
  {
   "cell_type": "code",
   "execution_count": 42,
   "id": "aa34d9a1-cb7b-4d5b-9799-00dad4b78b65",
   "metadata": {
    "tags": []
   },
   "outputs": [
    {
     "name": "stdout",
     "output_type": "stream",
     "text": [
      "HindIII: [23129, 25156, 27478, 36894, 37458, 37583, 44140]\n",
      "EcoRI:   [21225, 26103, 31746, 39167, 44971]\n",
      "KpnI:    [17052, 18555]\n"
     ]
    }
   ],
   "source": [
    "print('HindIII:', restriction_sites(seq, 'AAGCTT'))\n",
    "print('EcoRI:  ', restriction_sites(seq, 'GAATTC'))\n",
    "print('KpnI:   ', restriction_sites(seq, 'GGTACC'))"
   ]
  },
  {
   "cell_type": "code",
   "execution_count": 43,
   "id": "ffd268bd-14a6-4433-a4e8-c497a25f902c",
   "metadata": {
    "tags": []
   },
   "outputs": [],
   "source": [
    "def restriction_sites_better(seq, recog_seq):\n",
    "    cut_sites = []\n",
    "    \n",
    "    for i in range (len(seq) - len(recog_seq)):\n",
    "        if seq[i:i+len(recog_seq)] == recog_seq:\n",
    "            cut_sites.append(i)\n",
    "    \n",
    "    return cut_sites"
   ]
  },
  {
   "cell_type": "code",
   "execution_count": 44,
   "id": "fbe0a20e-8f67-42e5-b705-bf16e9c62784",
   "metadata": {
    "tags": []
   },
   "outputs": [
    {
     "name": "stdout",
     "output_type": "stream",
     "text": [
      "HindIII: [23129, 25156, 27478, 36894, 37458, 37583, 44140]\n",
      "EcoRI:   [21225, 26103, 31746, 39167, 44971]\n",
      "KpnI:    [17052, 18555]\n"
     ]
    }
   ],
   "source": [
    "print('HindIII:', restriction_sites_better(seq, 'AAGCTT'))\n",
    "print('EcoRI:  ', restriction_sites_better(seq, 'GAATTC'))\n",
    "print('KpnI:   ', restriction_sites_better(seq, 'GGTACC'))"
   ]
  },
  {
   "cell_type": "markdown",
   "id": "5fe7a601-8f4b-4232-83e5-e3f06b03d197",
   "metadata": {},
   "source": [
    "# Exercise 2.3"
   ]
  },
  {
   "cell_type": "markdown",
   "id": "9216d861-0cb3-4b49-8bd5-db2e4144b194",
   "metadata": {},
   "source": [
    "## (a)"
   ]
  },
  {
   "cell_type": "code",
   "execution_count": 52,
   "id": "abcde346-f492-459f-9d18-534321b5a405",
   "metadata": {
    "tags": []
   },
   "outputs": [],
   "source": [
    "def gc_content(seq):\n",
    "    # If the sequence is empty, return 0.0\n",
    "    if seq == '':\n",
    "        return 0.0;\n",
    "    \n",
    "    # Make string all uppercase\n",
    "    seq.upper()\n",
    "    \n",
    "    # Create variable for the number of gc bases\n",
    "    gc_count = 0\n",
    "    \n",
    "    # Loop to count number of Cs and Gs\n",
    "    # I forgot that strings have a count method\n",
    "    for base in seq:\n",
    "        if (base == 'G') or (base == 'C'):\n",
    "            gc_count += 1\n",
    "            \n",
    "        \n",
    "    return gc_count / len(seq)\n"
   ]
  },
  {
   "cell_type": "code",
   "execution_count": 53,
   "id": "e99f9d05-6a3e-43cd-9f6e-8d44387828ca",
   "metadata": {
    "tags": []
   },
   "outputs": [
    {
     "data": {
      "text/plain": [
       "0.0"
      ]
     },
     "execution_count": 53,
     "metadata": {},
     "output_type": "execute_result"
    }
   ],
   "source": [
    "gc_content('')"
   ]
  },
  {
   "cell_type": "code",
   "execution_count": 56,
   "id": "ec32a7c4-f922-493d-b841-e03193915be7",
   "metadata": {
    "tags": []
   },
   "outputs": [
    {
     "data": {
      "text/plain": [
       "0.7"
      ]
     },
     "execution_count": 56,
     "metadata": {},
     "output_type": "execute_result"
    }
   ],
   "source": [
    "gc_content('GCGCGCAAAG')"
   ]
  },
  {
   "cell_type": "code",
   "execution_count": 57,
   "id": "e670841f-b3c9-4a67-9717-81cd5a7592b1",
   "metadata": {
    "tags": []
   },
   "outputs": [],
   "source": [
    "def gc_blocks(seq, block_size):\n",
    "    # Create empty list to store the blocks' GC content\n",
    "    block_gc_content = []\n",
    "    \n",
    "    for i in range(0, len(seq) - (len(seq) % block_size), block_size):\n",
    "        block_gc_content.append(gc_content(seq[i:i+block_size]))\n",
    "    \n",
    "    return tuple(block_gc_content)"
   ]
  },
  {
   "cell_type": "code",
   "execution_count": 58,
   "id": "64828ec9-0527-4ffd-9a11-30da2a778590",
   "metadata": {
    "tags": []
   },
   "outputs": [
    {
     "data": {
      "text/plain": [
       "(0.25, 0.5)"
      ]
     },
     "execution_count": 58,
     "metadata": {},
     "output_type": "execute_result"
    }
   ],
   "source": [
    "gc_blocks('ATGACTACGT', 4)"
   ]
  },
  {
   "cell_type": "markdown",
   "id": "b0fd0041-e6f0-4fc4-b2e2-7e610cf45756",
   "metadata": {
    "tags": []
   },
   "source": [
    "## (b)"
   ]
  },
  {
   "cell_type": "code",
   "execution_count": 86,
   "id": "7f7c445a-a6f3-41a5-b6e8-edab3b08d449",
   "metadata": {
    "tags": []
   },
   "outputs": [],
   "source": [
    "def gc_map(seq, block_size, gc_thresh):\n",
    "    \"\"\" \n",
    "    Takes a sequence a block size and a GC\n",
    "    threshold\n",
    "    Returns the original sequence with blocks\n",
    "    with GC content above threshold in caps\n",
    "    and blocks below GC content in lowercase\n",
    "    \n",
    "    \n",
    "    I definitely could've done this in a better\n",
    "    way but this works\n",
    "    \"\"\"\n",
    "    \n",
    "    # Make sure whole sequence is upper case\n",
    "    seq.upper()\n",
    "    \n",
    "    # Create empty output string\n",
    "    mapped_seq = ''\n",
    "    \n",
    "    # Get gc content of blocks\n",
    "    gc_content_blocks = gc_blocks(seq, block_size)\n",
    "    \n",
    "    for i, gc in enumerate(gc_content_blocks):\n",
    "        if gc >= gc_thresh:\n",
    "            mapped_seq += seq[i*block_size:(i+1)*block_size]\n",
    "        else:\n",
    "            mapped_seq += seq[i*block_size:(i+1)*block_size].lower()\n",
    "            \n",
    "    return mapped_seq"
   ]
  },
  {
   "cell_type": "code",
   "execution_count": 87,
   "id": "04c42102-f7b9-4cec-92fd-ada998500312",
   "metadata": {
    "tags": []
   },
   "outputs": [
    {
     "data": {
      "text/plain": [
       "'atgaCTAC'"
      ]
     },
     "execution_count": 87,
     "metadata": {},
     "output_type": "execute_result"
    }
   ],
   "source": [
    "gc_map('ATGACTACGT', 4, 0.4)"
   ]
  },
  {
   "cell_type": "code",
   "execution_count": 90,
   "id": "0ad42137-ec24-4dd6-964b-2345b054a85a",
   "metadata": {},
   "outputs": [
    {
     "name": "stdout",
     "output_type": "stream",
     "text": [
      "\n"
     ]
    }
   ],
   "source": [
    "descriptor, seq = read_fasta('data/salmonella_spi1_region.fna')"
   ]
  },
  {
   "cell_type": "code",
   "execution_count": 91,
   "id": "de933c5f-77a5-485b-afc6-bd072dd4adad",
   "metadata": {
    "tags": []
   },
   "outputs": [
    {
     "name": "stdout",
     "output_type": "stream",
     "text": [
      ">gi|821161554|gb|CP011428.1| Salmonella enterica subsp. enterica strain YU39, complete genome, subsequence 3000000 to 3200000\n"
     ]
    }
   ],
   "source": [
    "print(descriptor)"
   ]
  },
  {
   "cell_type": "code",
   "execution_count": 92,
   "id": "dff73ca5-023f-403b-98e8-a7e5dab5518f",
   "metadata": {
    "tags": []
   },
   "outputs": [
    {
     "data": {
      "text/plain": [
       "'AAAACCTTAGTAACTGGACTGCTGGGATTTTTCAGCCTGGATACGCTGGTAGATCTCTTCACGATGGACAGAAACTTCTTTCGGGGCGTTCACGCCAATACGCACCTGGTTGCCCTTCACCCCTAAAACTGTCACGGTGACCTCATCGCCAATCATGAGGGTCTCACCAACTCGACGAGTCAGAATCAGCATTCTTTGCTCCTTGAAAGATTAAAAGAGTCGGGTCTCTCTGTATCCCGGCATTATCCATCATATAACGCCAAAAAGTAAGCGATGACAAACACCTTAGGTGTAAGCAGTCATGGCATTACATTCTGTTAAACCTAAGTTTAGCCGATATACAAAACTTCAACCTGACTTTATCGTTGTCGATAGCGTTGACGTAAACGCCGCAGCACGGGCTGCGGCGCCAACGAACGCTTATAATTATTGCAATTTTGCGCTGACCCAGCCTTGTACACTGGCTAACGCTGCAGGCAGAGCTGCCGCATCCGTACCAC'"
      ]
     },
     "execution_count": 92,
     "metadata": {},
     "output_type": "execute_result"
    }
   ],
   "source": [
    "seq[:500]"
   ]
  },
  {
   "cell_type": "code",
   "execution_count": 93,
   "id": "a2ab3c2d-3f3a-4e39-ba69-b202aa1bcd99",
   "metadata": {
    "tags": []
   },
   "outputs": [],
   "source": [
    "salmonella_mapped = gc_map(seq, 10000, 0.45)"
   ]
  },
  {
   "cell_type": "code",
   "execution_count": 95,
   "id": "216adbf9-c97d-45f0-95c8-75407ae83f4d",
   "metadata": {
    "tags": []
   },
   "outputs": [],
   "source": [
    "#salmonella_mapped"
   ]
  },
  {
   "cell_type": "code",
   "execution_count": 100,
   "id": "cca37294-6c5f-425d-bee9-34ad598be960",
   "metadata": {
    "tags": []
   },
   "outputs": [],
   "source": [
    "with open('data/salmonella_spi1_region.fna', 'w') as f:\n",
    "    # Write the description\n",
    "    f.write(descriptor + '\\n')\n",
    "    \n",
    "    i = 0\n",
    "    while i < len(salmonella_mapped) - 59:\n",
    "        f.write(salmonella_mapped[i:i+60] + '\\n')\n",
    "        i += 60\n",
    "    \n",
    "    f.write(salmonella_mapped[i:] + '\\n')\n",
    "    "
   ]
  },
  {
   "cell_type": "code",
   "execution_count": 101,
   "id": "32a44d5e-1123-46d6-9b0d-99b9f0d75eec",
   "metadata": {
    "tags": []
   },
   "outputs": [
    {
     "name": "stdout",
     "output_type": "stream",
     "text": [
      ">gi|821161554|gb|CP011428.1| Salmonella enterica subsp. enterica strain YU39, complete genome, subsequence 3000000 to 3200000\n",
      "AAAACCTTAGTAACTGGACTGCTGGGATTTTTCAGCCTGGATACGCTGGTAGATCTCTTC\n",
      "ACGATGGACAGAAACTTCTTTCGGGGCGTTCACGCCAATACGCACCTGGTTGCCCTTCAC\n",
      "CCCTAAAACTGTCACGGTGACCTCATCGCCAATCATGAGGGTCTCACCAACTCGACGAGT\n",
      "CAGAATCAGCATTCTTTGCTCCTTGAAAGATTAAAAGAGTCGGGTCTCTCTGTATCCCGG\n",
      "CATTATCCATCATATAACGCCAAAAAGTAAGCGATGACAAACACCTTAGGTGTAAGCAGT\n",
      "CATGGCATTACATTCTGTTAAACCTAAGTTTAGCCGATATACAAAACTTCAACCTGACTT\n",
      "TATCGTTGTCGATAGCGTTGACGTAAACGCCGCAGCACGGGCTGCGGCGCCAACGAACGC\n",
      "TTATAATTATTGCAATTTTGCGCTGACCCAGCCTTGTACACTGGCTAACGCTGCAGGCAG\n",
      "AGCTGCCGCATCCGTACCACCGGCTTGCGCCATGTCCGGACGACCGCCACCCTTACCGCC\n"
     ]
    }
   ],
   "source": [
    "!head data/salmonella_spi1_region.fna"
   ]
  },
  {
   "cell_type": "code",
   "execution_count": null,
   "id": "671e864c-f506-4cb9-b5e7-139a74c8b523",
   "metadata": {
    "tags": []
   },
   "outputs": [],
   "source": [
    "!tail data/salmonella_spi1_region.fna"
   ]
  },
  {
   "cell_type": "markdown",
   "id": "5293745d-0a03-4389-b4ca-f7a0a40c724a",
   "metadata": {},
   "source": [
    "# Exercise 2.4"
   ]
  }
 ],
 "metadata": {
  "kernelspec": {
   "display_name": "Python 3 (ipykernel)",
   "language": "python",
   "name": "python3"
  },
  "language_info": {
   "codemirror_mode": {
    "name": "ipython",
    "version": 3
   },
   "file_extension": ".py",
   "mimetype": "text/x-python",
   "name": "python",
   "nbconvert_exporter": "python",
   "pygments_lexer": "ipython3",
   "version": "3.10.11"
  }
 },
 "nbformat": 4,
 "nbformat_minor": 5
}
