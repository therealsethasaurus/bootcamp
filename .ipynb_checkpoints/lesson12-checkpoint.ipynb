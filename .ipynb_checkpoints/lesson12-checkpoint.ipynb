{
 "cells": [
  {
   "cell_type": "code",
   "execution_count": 13,
   "id": "2ae1e81c-329e-406a-bbd2-5e449da6ad0f",
   "metadata": {
    "tags": []
   },
   "outputs": [
    {
     "data": {
      "text/plain": [
       "'HEADER    ANTI-ONCOGENE                           13-JUN-94   1OLG              \\nTITLE     HIGH-RESOLUTION SOLUTION STRUCTURE OF THE OLIGOMERIZATION             \\nTITLE    2 DOMAIN OF P53 BY MULTI-DIMENSIONAL NMR                               \\nCOMPND    MOL_ID: 1;                                                            \\nCOMPND   2 MOLECULE: TUMOR SUPPRESSOR P53 (OLIGOMERIZATION DOMAIN);             \\nCOMPND   3 CHAIN: A, B, C, D;                                                   \\nCOMPND   4 ENGINEERED: YES                                                      \\nSOURCE    MOL_ID: 1;                                                            \\nSOURCE   2 ORGANISM_SCIENTIFIC: HOMO SAPIENS;                                   \\nSOURCE   3 ORGANISM_COMMON: HUMAN;                                              \\nSOURCE   4 ORGANISM_TAXID: 9606                                                 \\nKEYWDS    ANTI-ONCOGENE                                                         \\nEXPDTA    SOLUTION NMR      '"
      ]
     },
     "execution_count": 13,
     "metadata": {},
     "output_type": "execute_result"
    }
   ],
   "source": [
    "import os\n",
    "import glob\n",
    "\n",
    "with open('data/1OLG.pdb', 'r') as f:\n",
    "    f_str = f.read()\n",
    "    \n",
    "f_str[:1000]"
   ]
  },
  {
   "cell_type": "code",
   "execution_count": null,
   "id": "34a14d75-233a-4933-9ca5-bebde1430959",
   "metadata": {},
   "outputs": [],
   "source": []
  },
  {
   "cell_type": "code",
   "execution_count": 4,
   "id": "e9dbb9cd-737c-4da4-8768-385f5cc6ff9d",
   "metadata": {
    "tags": []
   },
   "outputs": [
    {
     "data": {
      "text/plain": [
       "['HEADER    ANTI-ONCOGENE                           13-JUN-94   1OLG              \\n',\n",
       " 'TITLE     HIGH-RESOLUTION SOLUTION STRUCTURE OF THE OLIGOMERIZATION             \\n',\n",
       " 'TITLE    2 DOMAIN OF P53 BY MULTI-DIMENSIONAL NMR                               \\n',\n",
       " 'COMPND    MOL_ID: 1;                                                            \\n',\n",
       " 'COMPND   2 MOLECULE: TUMOR SUPPRESSOR P53 (OLIGOMERIZATION DOMAIN);             \\n',\n",
       " 'COMPND   3 CHAIN: A, B, C, D;                                                   \\n',\n",
       " 'COMPND   4 ENGINEERED: YES                                                      \\n',\n",
       " 'SOURCE    MOL_ID: 1;                                                            \\n',\n",
       " 'SOURCE   2 ORGANISM_SCIENTIFIC: HOMO SAPIENS;                                   \\n',\n",
       " 'SOURCE   3 ORGANISM_COMMON: HUMAN;                                              \\n']"
      ]
     },
     "execution_count": 4,
     "metadata": {},
     "output_type": "execute_result"
    }
   ],
   "source": [
    "with open('data/1OLG.pdb', 'r') as f:\n",
    "    f_list = f.readlines()\n",
    "    \n",
    "f_list[:10]"
   ]
  },
  {
   "cell_type": "code",
   "execution_count": 6,
   "id": "97f1d561-3d49-45e6-96d7-f996ec49f262",
   "metadata": {
    "tags": []
   },
   "outputs": [
    {
     "data": {
      "text/plain": [
       "'HEADER    ANTI-ONCOGENE                           13-JUN-94   1OLG'"
      ]
     },
     "execution_count": 6,
     "metadata": {},
     "output_type": "execute_result"
    }
   ],
   "source": [
    "f_list[0].rstrip()"
   ]
  },
  {
   "cell_type": "code",
   "execution_count": 7,
   "id": "b3b9e44d-da67-448a-be62-d7d10bcb4093",
   "metadata": {
    "tags": []
   },
   "outputs": [
    {
     "name": "stdout",
     "output_type": "stream",
     "text": [
      "HEADER    ANTI-ONCOGENE                           13-JUN-94   1OLG\n",
      "TITLE     HIGH-RESOLUTION SOLUTION STRUCTURE OF THE OLIGOMERIZATION\n",
      "TITLE    2 DOMAIN OF P53 BY MULTI-DIMENSIONAL NMR\n",
      "COMPND    MOL_ID: 1;\n",
      "COMPND   2 MOLECULE: TUMOR SUPPRESSOR P53 (OLIGOMERIZATION DOMAIN);\n",
      "COMPND   3 CHAIN: A, B, C, D;\n",
      "COMPND   4 ENGINEERED: YES\n",
      "SOURCE    MOL_ID: 1;\n",
      "SOURCE   2 ORGANISM_SCIENTIFIC: HOMO SAPIENS;\n",
      "SOURCE   3 ORGANISM_COMMON: HUMAN;\n",
      "SOURCE   4 ORGANISM_TAXID: 9606\n"
     ]
    }
   ],
   "source": [
    "with open('data/1OLG.pdb', 'r') as f:\n",
    "    for i, line in enumerate(f):\n",
    "        print(line.rstrip())\n",
    "        if i >= 10:\n",
    "            break"
   ]
  },
  {
   "cell_type": "code",
   "execution_count": 8,
   "id": "257dfb75-b27d-4243-a322-f7bafa914279",
   "metadata": {
    "collapsed": true,
    "jupyter": {
     "outputs_hidden": true,
     "source_hidden": true
    },
    "tags": []
   },
   "outputs": [
    {
     "name": "stdout",
     "output_type": "stream",
     "text": [
      "HEADER    ANTI-ONCOGENE                           13-JUN-94   1OLG\n",
      "TITLE     HIGH-RESOLUTION SOLUTION STRUCTURE OF THE OLIGOMERIZATION\n",
      "TITLE    2 DOMAIN OF P53 BY MULTI-DIMENSIONAL NMR\n",
      "COMPND    MOL_ID: 1;\n",
      "COMPND   2 MOLECULE: TUMOR SUPPRESSOR P53 (OLIGOMERIZATION DOMAIN);\n",
      "COMPND   3 CHAIN: A, B, C, D;\n",
      "COMPND   4 ENGINEERED: YES\n",
      "SOURCE    MOL_ID: 1;\n",
      "SOURCE   2 ORGANISM_SCIENTIFIC: HOMO SAPIENS;\n",
      "SOURCE   3 ORGANISM_COMMON: HUMAN;\n"
     ]
    }
   ],
   "source": [
    "# we can also use readline() to just read one line\n",
    "with open ('data/1OLG.pdb', 'r') as f:\n",
    "    i = 0\n",
    "    while i < 10:\n",
    "        print(f.readline().rstrip())\n",
    "        i += 1"
   ]
  },
  {
   "cell_type": "code",
   "execution_count": 14,
   "id": "56aa394a-7a54-47f3-8da3-23a78348a2f2",
   "metadata": {
    "tags": []
   },
   "outputs": [
    {
     "data": {
      "text/plain": [
       "True"
      ]
     },
     "execution_count": 14,
     "metadata": {},
     "output_type": "execute_result"
    }
   ],
   "source": [
    "os.path.isfile('data/1OLG.pdb')"
   ]
  },
  {
   "cell_type": "code",
   "execution_count": 15,
   "id": "00e2d685-88cf-4b5b-bc62-c3a358f91ed6",
   "metadata": {
    "tags": []
   },
   "outputs": [],
   "source": [
    "if os.path.isfile('yogi.txt'):\n",
    "    raise RuntimeError('File yogi.txt already exists')\n",
    "    \n",
    "with open('yogi.txt', 'w') as f:\n",
    "    f.write('When you come to a fork in the road, take it.')\n",
    "    f.write('You can observe a lot by just watching.')\n",
    "    f.write('I never said most of the things I said.')\n",
    "    \n",
    "\n"
   ]
  },
  {
   "cell_type": "code",
   "execution_count": 16,
   "id": "d6af4205-7656-485f-a0dc-026af4ddfeab",
   "metadata": {
    "tags": []
   },
   "outputs": [
    {
     "name": "stdout",
     "output_type": "stream",
     "text": [
      "When you come to a fork in the road, take it.You can observe a lot by just watching.I never said most of the things I said."
     ]
    }
   ],
   "source": [
    "!cat yogi.txt"
   ]
  },
  {
   "cell_type": "code",
   "execution_count": 17,
   "id": "3b861650-c4a5-458f-9749-26b8f619947e",
   "metadata": {
    "tags": []
   },
   "outputs": [
    {
     "name": "stdout",
     "output_type": "stream",
     "text": [
      "When you come to a fork in the road, take it.\n",
      "You can observe a lot by just watching. \n",
      "I never said most of the things I said.\n"
     ]
    }
   ],
   "source": [
    "with open('yogi.txt', 'w') as f:\n",
    "    f.write('When you come to a fork in the road, take it.\\n')\n",
    "    f.write('You can observe a lot by just watching. \\n')\n",
    "    f.write('I never said most of the things I said.\\n')\n",
    "\n",
    "!cat yogi.txt"
   ]
  },
  {
   "cell_type": "code",
   "execution_count": 20,
   "id": "fa13daa6-e2cb-47f7-a7d8-bc0a6cac6813",
   "metadata": {
    "tags": []
   },
   "outputs": [],
   "source": [
    "with open('data/1OLG.pdb', 'r') as f, open ('atoms_chain_A.txt', 'w') as f_out:\n",
    "    # put the ATOM lines from chain A in new file\n",
    "    for line in f:\n",
    "        if len(line) > 21 and line[:4] == 'ATOM' and line[21] == 'A':\n",
    "               f_out.write(line)"
   ]
  },
  {
   "cell_type": "code",
   "execution_count": 21,
   "id": "a9800bcb-c6af-40e1-8155-69e69289db20",
   "metadata": {
    "tags": []
   },
   "outputs": [
    {
     "name": "stdout",
     "output_type": "stream",
     "text": [
      "ATOM      1  N   LYS A 319      18.634  25.437  10.685  1.00  4.81           N  \n",
      "ATOM      2  CA  LYS A 319      17.984  25.295   9.354  1.00  4.32           C  \n",
      "ATOM      3  C   LYS A 319      18.160  23.876   8.818  1.00  3.74           C  \n",
      "ATOM      4  O   LYS A 319      19.259  23.441   8.537  1.00  3.67           O  \n",
      "ATOM      5  CB  LYS A 319      18.609  26.282   8.371  1.00  4.67           C  \n",
      "ATOM      6  CG  LYS A 319      18.003  26.056   6.986  1.00  5.15           C  \n",
      "ATOM      7  CD  LYS A 319      16.476  26.057   7.091  1.00  5.90           C  \n",
      "ATOM      8  CE  LYS A 319      16.014  27.341   7.784  1.00  6.51           C  \n",
      "ATOM      9  NZ  LYS A 319      16.388  28.518   6.952  1.00  7.33           N  \n",
      "ATOM     10  H1  LYS A 319      18.414  24.606  11.281  1.00  5.09           H  \n"
     ]
    }
   ],
   "source": [
    "!head -10 atoms_chain_A.txt"
   ]
  },
  {
   "cell_type": "code",
   "execution_count": 22,
   "id": "294b8d85-09fd-4851-9bd9-78d00b70e848",
   "metadata": {
    "tags": []
   },
   "outputs": [
    {
     "name": "stdout",
     "output_type": "stream",
     "text": [
      "ATOM    689  HD2 PRO A 359       0.183  25.663  13.542  1.00  4.71           H  \n",
      "ATOM    690  HD3 PRO A 359       0.246  23.956  13.062  1.00  4.53           H  \n",
      "ATOM    691  N   GLY A 360      -3.984  26.791  10.832  1.00  5.45           N  \n",
      "ATOM    692  CA  GLY A 360      -4.489  28.138  10.445  1.00  5.95           C  \n",
      "ATOM    693  C   GLY A 360      -5.981  28.236  10.765  1.00  6.77           C  \n",
      "ATOM    694  O   GLY A 360      -6.401  27.621  11.732  1.00  7.24           O  \n",
      "ATOM    695  OXT GLY A 360      -6.679  28.924  10.039  1.00  7.15           O  \n",
      "ATOM    696  H   GLY A 360      -4.589  26.020  10.828  1.00  5.72           H  \n",
      "ATOM    697  HA2 GLY A 360      -3.950  28.896  10.995  1.00  5.99           H  \n",
      "ATOM    698  HA3 GLY A 360      -4.341  28.288   9.386  1.00  6.05           H  \n"
     ]
    }
   ],
   "source": [
    "!tail -10 atoms_chain_A.txt"
   ]
  },
  {
   "cell_type": "code",
   "execution_count": 25,
   "id": "9009ff88-5fd4-4d6f-ad26-1f15fcd3dd2b",
   "metadata": {
    "tags": []
   },
   "outputs": [
    {
     "data": {
      "text/plain": [
       "['data/1OLG.pdb', 'data/1J6Z.pdb', 'data/1FAG.pdb', 'data/2ERK.pdb']"
      ]
     },
     "execution_count": 25,
     "metadata": {},
     "output_type": "execute_result"
    }
   ],
   "source": [
    "# * is wild star character\n",
    "\n",
    "file_list = glob.glob('data/*.pdb')\n",
    "\n",
    "file_list"
   ]
  },
  {
   "cell_type": "code",
   "execution_count": 26,
   "id": "b0ff45cb-20db-420e-a5bb-1a6ca9d8eed2",
   "metadata": {
    "tags": []
   },
   "outputs": [],
   "source": [
    "# Dictionary to hold sequences\n",
    "seqs = {}\n",
    "\n",
    "# Loop through all matching files\n",
    "for file_name in file_list:\n",
    "    # Extract PDB ID\n",
    "    pdb_id = file_name[file_name.find('/')+1:file_name.rfind('.')]\n",
    "    \n",
    "    # Initialize sequence string, which we build as we go along\n",
    "    seq = ' '\n",
    "    with open(file_name, 'r') as f:\n",
    "        for line in f:\n",
    "            if len(line) > 11 and line[:6] == 'SEQRES' and line[11] == 'A':\n",
    "                seq += line[19:].rstrip() + ' '\n",
    "                \n",
    "    # Build sequence with dash-joined three letter codes\n",
    "    seq = '-'.join(seq.split())\n",
    "    \n",
    "    # store in the dictionary\n",
    "    seqs[pdb_id] = seq"
   ]
  },
  {
   "cell_type": "code",
   "execution_count": 28,
   "id": "fcb909fa-5425-46ba-af9e-c7782a8d231c",
   "metadata": {
    "tags": []
   },
   "outputs": [
    {
     "data": {
      "text/plain": [
       "'ASP-GLU-ASP-GLU-THR-THR-ALA-LEU-VAL-CYS-ASP-ASN-GLY-SER-GLY-LEU-VAL-LYS-ALA-GLY-PHE-ALA-GLY-ASP-ASP-ALA-PRO-ARG-ALA-VAL-PHE-PRO-SER-ILE-VAL-GLY-ARG-PRO-ARG-HIS-GLN-GLY-VAL-MET-VAL-GLY-MET-GLY-GLN-LYS-ASP-SER-TYR-VAL-GLY-ASP-GLU-ALA-GLN-SER-LYS-ARG-GLY-ILE-LEU-THR-LEU-LYS-TYR-PRO-ILE-GLU-HIC-GLY-ILE-ILE-THR-ASN-TRP-ASP-ASP-MET-GLU-LYS-ILE-TRP-HIS-HIS-THR-PHE-TYR-ASN-GLU-LEU-ARG-VAL-ALA-PRO-GLU-GLU-HIS-PRO-THR-LEU-LEU-THR-GLU-ALA-PRO-LEU-ASN-PRO-LYS-ALA-ASN-ARG-GLU-LYS-MET-THR-GLN-ILE-MET-PHE-GLU-THR-PHE-ASN-VAL-PRO-ALA-MET-TYR-VAL-ALA-ILE-GLN-ALA-VAL-LEU-SER-LEU-TYR-ALA-SER-GLY-ARG-THR-THR-GLY-ILE-VAL-LEU-ASP-SER-GLY-ASP-GLY-VAL-THR-HIS-ASN-VAL-PRO-ILE-TYR-GLU-GLY-TYR-ALA-LEU-PRO-HIS-ALA-ILE-MET-ARG-LEU-ASP-LEU-ALA-GLY-ARG-ASP-LEU-THR-ASP-TYR-LEU-MET-LYS-ILE-LEU-THR-GLU-ARG-GLY-TYR-SER-PHE-VAL-THR-THR-ALA-GLU-ARG-GLU-ILE-VAL-ARG-ASP-ILE-LYS-GLU-LYS-LEU-CYS-TYR-VAL-ALA-LEU-ASP-PHE-GLU-ASN-GLU-MET-ALA-THR-ALA-ALA-SER-SER-SER-SER-LEU-GLU-LYS-SER-TYR-GLU-LEU-PRO-ASP-GLY-GLN-VAL-ILE-THR-ILE-GLY-ASN-GLU-ARG-PHE-ARG-CYS-PRO-GLU-THR-LEU-PHE-GLN-PRO-SER-PHE-ILE-GLY-MET-GLU-SER-ALA-GLY-ILE-HIS-GLU-THR-THR-TYR-ASN-SER-ILE-MET-LYS-CYS-ASP-ILE-ASP-ILE-ARG-LYS-ASP-LEU-TYR-ALA-ASN-ASN-VAL-MET-SER-GLY-GLY-THR-THR-MET-TYR-PRO-GLY-ILE-ALA-ASP-ARG-MET-GLN-LYS-GLU-ILE-THR-ALA-LEU-ALA-PRO-SER-THR-MET-LYS-ILE-LYS-ILE-ILE-ALA-PRO-PRO-GLU-ARG-LYS-TYR-SER-VAL-TRP-ILE-GLY-GLY-SER-ILE-LEU-ALA-SER-LEU-SER-THR-PHE-GLN-GLN-MET-TRP-ILE-THR-LYS-GLN-GLU-TYR-ASP-GLU-ALA-GLY-PRO-SER-ILE-VAL-HIS-ARG-LYS-CYS-PHE'"
      ]
     },
     "execution_count": 28,
     "metadata": {},
     "output_type": "execute_result"
    }
   ],
   "source": [
    "seqs['1J6Z']"
   ]
  },
  {
   "cell_type": "code",
   "execution_count": null,
   "id": "3b4d21fc-0cf7-4f26-bd29-e33ebdc6813a",
   "metadata": {},
   "outputs": [],
   "source": []
  },
  {
   "cell_type": "code",
   "execution_count": null,
   "id": "e0cbe4dd-9b7d-4ac2-90f9-871a7e48e897",
   "metadata": {},
   "outputs": [],
   "source": []
  }
 ],
 "metadata": {
  "kernelspec": {
   "display_name": "Python 3 (ipykernel)",
   "language": "python",
   "name": "python3"
  },
  "language_info": {
   "codemirror_mode": {
    "name": "ipython",
    "version": 3
   },
   "file_extension": ".py",
   "mimetype": "text/x-python",
   "name": "python",
   "nbconvert_exporter": "python",
   "pygments_lexer": "ipython3",
   "version": "3.10.11"
  }
 },
 "nbformat": 4,
 "nbformat_minor": 5
}
