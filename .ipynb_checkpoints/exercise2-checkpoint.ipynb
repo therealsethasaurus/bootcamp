{
 "cells": [
  {
   "cell_type": "code",
   "execution_count": 1,
   "id": "d3f123a5-2f85-494d-955a-93cb79a2caef",
   "metadata": {
    "tags": []
   },
   "outputs": [
    {
     "name": "stdout",
     "output_type": "stream",
     "text": [
      ">gi|821161554|gb|CP011428.1| Salmonella enterica subsp. enterica strain YU39, complete genome, subsequence 3000000 to 3200000\n"
     ]
    }
   ],
   "source": [
    "!grep \">\" data/salmonella_spi1_region.fna"
   ]
  },
  {
   "cell_type": "code",
   "execution_count": 96,
   "id": "efa458ae-1849-4c0f-bd30-4f5c8ed97c0f",
   "metadata": {},
   "outputs": [],
   "source": [
    "def read_fasta(filename):\n",
    "    \"\"\"\n",
    "    Read a FASTA File\n",
    "    Assumes first line is the descriptor and the rest is\n",
    "    the sequence\n",
    "    \"\"\"\n",
    "    with open(filename, 'r') as f:\n",
    "        descriptor = f.readline().rstrip()\n",
    "        \n",
    "        sequence = \"\"\n",
    "        line = f.readline().rstrip()\n",
    "        print(sequence)\n",
    "        while line != \"\":\n",
    "            sequence += line\n",
    "            line = f.readline().rstrip()\n",
    "            \n",
    "    return descriptor, sequence"
   ]
  },
  {
   "cell_type": "code",
   "execution_count": 97,
   "id": "bd5b547d-c2cd-4383-8e45-acc38b8c9331",
   "metadata": {
    "tags": []
   },
   "outputs": [
    {
     "name": "stdout",
     "output_type": "stream",
     "text": [
      "\n"
     ]
    }
   ],
   "source": [
    "descriptor, seq = read_fasta('data/salmonella_spi1_region.fna')"
   ]
  },
  {
   "cell_type": "code",
   "execution_count": 98,
   "id": "40a00f55-6778-4469-9e36-6d63097eb44a",
   "metadata": {
    "tags": []
   },
   "outputs": [
    {
     "name": "stdout",
     "output_type": "stream",
     "text": [
      ">gi|821161554|gb|CP011428.1| Salmonella enterica subsp. enterica strain YU39, complete genome, subsequence 3000000 to 3200000\n"
     ]
    }
   ],
   "source": [
    "print(descriptor)"
   ]
  },
  {
   "cell_type": "code",
   "execution_count": 99,
   "id": "bd80a4f2-a10a-4cf0-8465-ebda0f201b71",
   "metadata": {
    "tags": []
   },
   "outputs": [
    {
     "data": {
      "text/plain": [
       "'AAAACCTTAGTAACTGGACTGCTGGGATTTTTCAGCCTGGATACGCTGGTAGATCTCTTCACGATGGACAGAAACTTCTTTCGGGGCGTTCACGCCAATACGCACCTGGTTGCCCTTCACCCCTAAAACTGTCACGGTGACCTCATCGCCAATCATGAGGGTCTCACCAACTCGACGAGTCAGAATCAGCATTCTTTGCTCCTTGAAAGATTAAAAGAGTCGGGTCTCTCTGTATCCCGGCATTATCCATCATATAACGCCAAAAAGTAAGCGATGACAAACACCTTAGGTGTAAGCAGTCATGGCATTACATTCTGTTAAACCTAAGTTTAGCCGATATACAAAACTTCAACCTGACTTTATCGTTGTCGATAGCGTTGACGTAAACGCCGCAGCACGGGCTGCGGCGCCAACGAACGCTTATAATTATTGCAATTTTGCGCTGACCCAGCCTTGTACACTGGCTAACGCTGCAGGCAGAGCTGCCGCATCCGTACCAC'"
      ]
     },
     "execution_count": 99,
     "metadata": {},
     "output_type": "execute_result"
    }
   ],
   "source": [
    "seq[:500]"
   ]
  },
  {
   "cell_type": "code",
   "execution_count": null,
   "id": "f19edbc4-93b9-409c-8403-239f8cde7db1",
   "metadata": {},
   "outputs": [],
   "source": []
  },
  {
   "cell_type": "code",
   "execution_count": null,
   "id": "984fd6ee-0c59-49bb-aaf3-036ee58c02ed",
   "metadata": {},
   "outputs": [],
   "source": []
  }
 ],
 "metadata": {
  "kernelspec": {
   "display_name": "Python 3 (ipykernel)",
   "language": "python",
   "name": "python3"
  },
  "language_info": {
   "codemirror_mode": {
    "name": "ipython",
    "version": 3
   },
   "file_extension": ".py",
   "mimetype": "text/x-python",
   "name": "python",
   "nbconvert_exporter": "python",
   "pygments_lexer": "ipython3",
   "version": "3.10.11"
  }
 },
 "nbformat": 4,
 "nbformat_minor": 5
}
