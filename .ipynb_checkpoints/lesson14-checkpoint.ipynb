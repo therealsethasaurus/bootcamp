{
 "cells": [
  {
   "cell_type": "code",
   "execution_count": 2,
   "id": "f765c3e0-1cfa-46eb-a5c3-50f60a00b91f",
   "metadata": {
    "tags": []
   },
   "outputs": [],
   "source": [
    "import warnings"
   ]
  },
  {
   "cell_type": "code",
   "execution_count": 3,
   "id": "f992abd6-fbe5-4a71-91e6-8888f29d8370",
   "metadata": {
    "tags": []
   },
   "outputs": [
    {
     "ename": "ModuleNotFoundError",
     "evalue": "No module named 'gc_content'",
     "output_type": "error",
     "traceback": [
      "\u001b[0;31m---------------------------------------------------------------------------\u001b[0m",
      "\u001b[0;31mModuleNotFoundError\u001b[0m                       Traceback (most recent call last)",
      "Cell \u001b[0;32mIn[3], line 1\u001b[0m\n\u001b[0;32m----> 1\u001b[0m \u001b[38;5;28;01mimport\u001b[39;00m \u001b[38;5;21;01mgc_content\u001b[39;00m\n",
      "\u001b[0;31mModuleNotFoundError\u001b[0m: No module named 'gc_content'"
     ]
    }
   ],
   "source": [
    "import gc_content"
   ]
  },
  {
   "cell_type": "code",
   "execution_count": 4,
   "id": "5e422dfa-1d13-487a-bc95-a74f5b75cb7f",
   "metadata": {
    "tags": []
   },
   "outputs": [
    {
     "name": "stdout",
     "output_type": "stream",
     "text": [
      "16\n"
     ]
    }
   ],
   "source": [
    "# Try to get the gc_content module\n",
    "try:\n",
    "    import gc_content\n",
    "    have_gc = True\n",
    "except ImportError as e:\n",
    "    have_gc = False\n",
    "finally:\n",
    "    # Do whatever is necessary here, like close files\n",
    "    pass # pass does noting but avoids getting an error when empty code is \n",
    "        #not allowed\n",
    "\n",
    "seq = 'ACGATCTACGATCAGCTGCGCGCATCG'\n",
    "\n",
    "if have_gc:\n",
    "    print(gc_content(seq))\n",
    "else:\n",
    "    print(seq.count('G') + seq.count('C'))\n",
    "    "
   ]
  },
  {
   "cell_type": "code",
   "execution_count": 9,
   "id": "710f78f1-7146-43df-9ed4-88c864124e7e",
   "metadata": {
    "tags": []
   },
   "outputs": [
    {
     "name": "stdout",
     "output_type": "stream",
     "text": [
      "16\n"
     ]
    },
    {
     "name": "stderr",
     "output_type": "stream",
     "text": [
      "/var/folders/0m/d3tg4m4n5sqgdk9_81jvzqrw0000gn/T/ipykernel_54214/2138613800.py:11: UserWarning: Failed to load gc_content. Using custom function.\n",
      "  warnings.warn(\n"
     ]
    }
   ],
   "source": [
    "# Issuing warnings\n",
    "\n",
    "\n",
    "# try to get the gc_content module\n",
    "try:\n",
    "    import gc_content\n",
    "    \n",
    "    have_gc = True\n",
    "except ImportError as e:\n",
    "    have_gc = False\n",
    "    warnings.warn(\n",
    "        \"Failed to load gc_content. Using custom function.\", UserWarning\n",
    "    )\n",
    "finally:\n",
    "    pass\n",
    "\n",
    "seq = 'ACGATCTACGATCAGCTGCGCGCATCG'\n",
    "\n",
    "if have_gc:\n",
    "    print(gc_content(seq))\n",
    "else:\n",
    "    print(seq.count(\"G\") + seq.count(\"C\"))\n"
   ]
  },
  {
   "cell_type": "markdown",
   "id": "070b7007-f219-4279-b4e8-70f35ca65ef5",
   "metadata": {},
   "source": [
    "# Checking Input"
   ]
  },
  {
   "cell_type": "code",
   "execution_count": null,
   "id": "85b398d8-04a9-4760-8d7e-378adbe3b5c8",
   "metadata": {},
   "outputs": [],
   "source": []
  }
 ],
 "metadata": {
  "kernelspec": {
   "display_name": "Python 3 (ipykernel)",
   "language": "python",
   "name": "python3"
  },
  "language_info": {
   "codemirror_mode": {
    "name": "ipython",
    "version": 3
   },
   "file_extension": ".py",
   "mimetype": "text/x-python",
   "name": "python",
   "nbconvert_exporter": "python",
   "pygments_lexer": "ipython3",
   "version": "3.10.11"
  }
 },
 "nbformat": 4,
 "nbformat_minor": 5
}
