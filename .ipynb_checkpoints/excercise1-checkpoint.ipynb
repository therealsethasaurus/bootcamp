{
 "cells": [
  {
   "cell_type": "markdown",
   "id": "6f6c0afd-a603-4d65-b84d-688256310fd3",
   "metadata": {},
   "source": [
    "# Exercise 1.3"
   ]
  },
  {
   "cell_type": "code",
   "execution_count": null,
   "id": "380eed0b-e526-4c83-ab6b-7c89488a2192",
   "metadata": {
    "tags": []
   },
   "outputs": [],
   "source": [
    "seconds_past_midnight = 63252"
   ]
  },
  {
   "cell_type": "code",
   "execution_count": 21,
   "id": "686b6679-e8d3-4d5f-b412-9d10455c85cc",
   "metadata": {
    "tags": []
   },
   "outputs": [],
   "source": [
    "hours = seconds_past_midnight // 60**2\n",
    "minutes = (seconds_past_midnight % 60**2) // 60\n",
    "seconds = seconds_past_midnight %60"
   ]
  },
  {
   "cell_type": "code",
   "execution_count": 22,
   "id": "a51f5bcd-a9c4-48ea-8740-a47c9fa774e8",
   "metadata": {
    "tags": []
   },
   "outputs": [],
   "source": [
    "time = str(hours) + ':' + str(minutes) + ':' + str(seconds)"
   ]
  },
  {
   "cell_type": "code",
   "execution_count": 23,
   "id": "2dd9fab3-dc9a-47be-9c25-7ae5f2053640",
   "metadata": {
    "tags": []
   },
   "outputs": [
    {
     "name": "stdout",
     "output_type": "stream",
     "text": [
      "17:34:12\n"
     ]
    }
   ],
   "source": [
    "print(time)"
   ]
  },
  {
   "cell_type": "markdown",
   "id": "5fcf7821-944f-4a38-bf64-22af3cba9a6d",
   "metadata": {},
   "source": [
    "# Exercise 1.4\n",
    "\n",
    "Compute reverse complement of a sequence (a) using a for loop but don't use built in reversed() function (b) write the function again but without any for loops\n"
   ]
  },
  {
   "cell_type": "code",
   "execution_count": 45,
   "id": "d67f7f37-5c0f-49ad-9e44-4bd9f69ef3d8",
   "metadata": {
    "tags": []
   },
   "outputs": [],
   "source": [
    "def complement_base(base, material='DNA'):\n",
    "    \"\"\"Returns the Watson-Crick complement of a base.\"\"\"\n",
    "    if base in 'Aa':\n",
    "        if material == 'DNA':\n",
    "            return 'T'\n",
    "        elif material == 'RNA':\n",
    "            return 'U'\n",
    "    elif base in 'Tt':\n",
    "        return 'A'\n",
    "    elif base in 'Gg':\n",
    "        return 'C'\n",
    "    else:\n",
    "        return 'G'\n",
    "    \n",
    "def reverse_complement(seq, material='DNA'):\n",
    "    \"\"\"Compute the reverse complement of a sequence\"\"\"\n",
    "    # Initialize reverse complement\n",
    "    rev_sequence = ''\n",
    "    \n",
    "    # Get length of string\n",
    "    len_seq = len(seq)\n",
    "    \n",
    "    # loop through string backwards\n",
    "    # adds complement to rev_sequence\n",
    "    for i in range(len_seq - 1, -1, (-1)):\n",
    "        rev_sequence += complement_base(seq[i], material=material)\n",
    "    \n",
    "    return rev_sequence\n"
   ]
  },
  {
   "cell_type": "code",
   "execution_count": 47,
   "id": "6f5e0e83-268c-40ec-8d05-332b6bd702d6",
   "metadata": {
    "tags": []
   },
   "outputs": [
    {
     "data": {
      "text/plain": [
       "'UGCAACUGC'"
      ]
     },
     "execution_count": 47,
     "metadata": {},
     "output_type": "execute_result"
    }
   ],
   "source": [
    "reverse_complement('GCAGTTGCA', material='RNA')\n",
    "    "
   ]
  },
  {
   "cell_type": "code",
   "execution_count": 48,
   "id": "96a821bd-d114-4841-917b-0ebdf98e7d38",
   "metadata": {
    "tags": []
   },
   "outputs": [
    {
     "data": {
      "text/plain": [
       "'TGCAACTGC'"
      ]
     },
     "execution_count": 48,
     "metadata": {},
     "output_type": "execute_result"
    }
   ],
   "source": [
    "reverse_complement('GCAGTTGCA', material='DNA')"
   ]
  },
  {
   "cell_type": "code",
   "execution_count": null,
   "id": "9918bcab-145f-46b7-90f7-b21dd1caa6c5",
   "metadata": {},
   "outputs": [],
   "source": []
  }
 ],
 "metadata": {
  "kernelspec": {
   "display_name": "Python 3 (ipykernel)",
   "language": "python",
   "name": "python3"
  },
  "language_info": {
   "codemirror_mode": {
    "name": "ipython",
    "version": 3
   },
   "file_extension": ".py",
   "mimetype": "text/x-python",
   "name": "python",
   "nbconvert_exporter": "python",
   "pygments_lexer": "ipython3",
   "version": "3.10.11"
  }
 },
 "nbformat": 4,
 "nbformat_minor": 5
}
